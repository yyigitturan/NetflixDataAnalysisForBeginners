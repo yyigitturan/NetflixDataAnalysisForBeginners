{
 "cells": [
  {
   "cell_type": "code",
   "execution_count": 2,
   "id": "516ff9f0",
   "metadata": {},
   "outputs": [],
   "source": [
    "import pandas as pd\n",
    "import matplotlib.pyplot as plt"
   ]
  },
  {
   "cell_type": "code",
   "execution_count": 3,
   "id": "4c1b6786",
   "metadata": {},
   "outputs": [],
   "source": [
    "data = pd.read_excel('netflix3.xlsx')\n",
    "df = data.copy()"
   ]
  },
  {
   "cell_type": "code",
   "execution_count": 4,
   "id": "53599361",
   "metadata": {},
   "outputs": [
    {
     "data": {
      "text/html": [
       "<div>\n",
       "<style scoped>\n",
       "    .dataframe tbody tr th:only-of-type {\n",
       "        vertical-align: middle;\n",
       "    }\n",
       "\n",
       "    .dataframe tbody tr th {\n",
       "        vertical-align: top;\n",
       "    }\n",
       "\n",
       "    .dataframe thead th {\n",
       "        text-align: right;\n",
       "    }\n",
       "</style>\n",
       "<table border=\"1\" class=\"dataframe\">\n",
       "  <thead>\n",
       "    <tr style=\"text-align: right;\">\n",
       "      <th></th>\n",
       "      <th>Name</th>\n",
       "      <th>Year</th>\n",
       "      <th>Age Rating</th>\n",
       "      <th>Duration</th>\n",
       "      <th>Category</th>\n",
       "      <th></th>\n",
       "    </tr>\n",
       "  </thead>\n",
       "  <tbody>\n",
       "    <tr>\n",
       "      <th>0</th>\n",
       "      <td>The Sea Beast</td>\n",
       "      <td>2022.0</td>\n",
       "      <td>7+</td>\n",
       "      <td>1h 59m</td>\n",
       "      <td>Kids &amp; Family Movies</td>\n",
       "      <td>NaN</td>\n",
       "    </tr>\n",
       "    <tr>\n",
       "      <th>1</th>\n",
       "      <td>Sonic the Hedgehog</td>\n",
       "      <td>2020.0</td>\n",
       "      <td>7+</td>\n",
       "      <td>1h 41m</td>\n",
       "      <td>Kids &amp; Family Movies</td>\n",
       "      <td>NaN</td>\n",
       "    </tr>\n",
       "    <tr>\n",
       "      <th>2</th>\n",
       "      <td>Tom and Jerry</td>\n",
       "      <td>2021.0</td>\n",
       "      <td>7+</td>\n",
       "      <td>1h 41m</td>\n",
       "      <td>Kids &amp; Family Movies</td>\n",
       "      <td>NaN</td>\n",
       "    </tr>\n",
       "    <tr>\n",
       "      <th>3</th>\n",
       "      <td>We Can Be Heroes</td>\n",
       "      <td>2020.0</td>\n",
       "      <td>7+</td>\n",
       "      <td>1h 40m</td>\n",
       "      <td>Kids &amp; Family Movies</td>\n",
       "      <td>NaN</td>\n",
       "    </tr>\n",
       "    <tr>\n",
       "      <th>4</th>\n",
       "      <td>STAND BY ME Doraemon 2</td>\n",
       "      <td>2020.0</td>\n",
       "      <td>7+</td>\n",
       "      <td>1h 37m</td>\n",
       "      <td>Kids &amp; Family Movies</td>\n",
       "      <td>NaN</td>\n",
       "    </tr>\n",
       "  </tbody>\n",
       "</table>\n",
       "</div>"
      ],
      "text/plain": [
       "                     Name    Year Age Rating Duration              Category  \\\n",
       "0           The Sea Beast  2022.0         7+   1h 59m  Kids & Family Movies   \n",
       "1      Sonic the Hedgehog  2020.0         7+   1h 41m  Kids & Family Movies   \n",
       "2           Tom and Jerry  2021.0         7+   1h 41m  Kids & Family Movies   \n",
       "3        We Can Be Heroes  2020.0         7+   1h 40m  Kids & Family Movies   \n",
       "4  STAND BY ME Doraemon 2  2020.0         7+   1h 37m  Kids & Family Movies   \n",
       "\n",
       "       \n",
       "0 NaN  \n",
       "1 NaN  \n",
       "2 NaN  \n",
       "3 NaN  \n",
       "4 NaN  "
      ]
     },
     "execution_count": 4,
     "metadata": {},
     "output_type": "execute_result"
    }
   ],
   "source": [
    "df.head()"
   ]
  },
  {
   "cell_type": "code",
   "execution_count": 5,
   "id": "50bcd775",
   "metadata": {},
   "outputs": [
    {
     "data": {
      "text/plain": [
       "Index(['Name', 'Year', 'Age Rating', 'Duration', 'Category', ' '], dtype='object')"
      ]
     },
     "execution_count": 5,
     "metadata": {},
     "output_type": "execute_result"
    }
   ],
   "source": [
    "df.columns"
   ]
  },
  {
   "cell_type": "code",
   "execution_count": 6,
   "id": "3b6c3547",
   "metadata": {},
   "outputs": [],
   "source": [
    "df.drop(' ', axis=1, inplace=True)"
   ]
  },
  {
   "cell_type": "code",
   "execution_count": 7,
   "id": "8af1cbcf",
   "metadata": {},
   "outputs": [
    {
     "data": {
      "text/html": [
       "<div>\n",
       "<style scoped>\n",
       "    .dataframe tbody tr th:only-of-type {\n",
       "        vertical-align: middle;\n",
       "    }\n",
       "\n",
       "    .dataframe tbody tr th {\n",
       "        vertical-align: top;\n",
       "    }\n",
       "\n",
       "    .dataframe thead th {\n",
       "        text-align: right;\n",
       "    }\n",
       "</style>\n",
       "<table border=\"1\" class=\"dataframe\">\n",
       "  <thead>\n",
       "    <tr style=\"text-align: right;\">\n",
       "      <th></th>\n",
       "      <th>Name</th>\n",
       "      <th>Year</th>\n",
       "      <th>Age Rating</th>\n",
       "      <th>Duration</th>\n",
       "      <th>Category</th>\n",
       "    </tr>\n",
       "  </thead>\n",
       "  <tbody>\n",
       "    <tr>\n",
       "      <th>0</th>\n",
       "      <td>The Sea Beast</td>\n",
       "      <td>2022.0</td>\n",
       "      <td>7+</td>\n",
       "      <td>1h 59m</td>\n",
       "      <td>Kids &amp; Family Movies</td>\n",
       "    </tr>\n",
       "    <tr>\n",
       "      <th>1</th>\n",
       "      <td>Sonic the Hedgehog</td>\n",
       "      <td>2020.0</td>\n",
       "      <td>7+</td>\n",
       "      <td>1h 41m</td>\n",
       "      <td>Kids &amp; Family Movies</td>\n",
       "    </tr>\n",
       "    <tr>\n",
       "      <th>2</th>\n",
       "      <td>Tom and Jerry</td>\n",
       "      <td>2021.0</td>\n",
       "      <td>7+</td>\n",
       "      <td>1h 41m</td>\n",
       "      <td>Kids &amp; Family Movies</td>\n",
       "    </tr>\n",
       "    <tr>\n",
       "      <th>3</th>\n",
       "      <td>We Can Be Heroes</td>\n",
       "      <td>2020.0</td>\n",
       "      <td>7+</td>\n",
       "      <td>1h 40m</td>\n",
       "      <td>Kids &amp; Family Movies</td>\n",
       "    </tr>\n",
       "    <tr>\n",
       "      <th>4</th>\n",
       "      <td>STAND BY ME Doraemon 2</td>\n",
       "      <td>2020.0</td>\n",
       "      <td>7+</td>\n",
       "      <td>1h 37m</td>\n",
       "      <td>Kids &amp; Family Movies</td>\n",
       "    </tr>\n",
       "  </tbody>\n",
       "</table>\n",
       "</div>"
      ],
      "text/plain": [
       "                     Name    Year Age Rating Duration              Category\n",
       "0           The Sea Beast  2022.0         7+   1h 59m  Kids & Family Movies\n",
       "1      Sonic the Hedgehog  2020.0         7+   1h 41m  Kids & Family Movies\n",
       "2           Tom and Jerry  2021.0         7+   1h 41m  Kids & Family Movies\n",
       "3        We Can Be Heroes  2020.0         7+   1h 40m  Kids & Family Movies\n",
       "4  STAND BY ME Doraemon 2  2020.0         7+   1h 37m  Kids & Family Movies"
      ]
     },
     "execution_count": 7,
     "metadata": {},
     "output_type": "execute_result"
    }
   ],
   "source": [
    "df.head()"
   ]
  },
  {
   "cell_type": "code",
   "execution_count": 8,
   "id": "1cdb3f0a",
   "metadata": {},
   "outputs": [
    {
     "data": {
      "text/plain": [
       "Index(['Name', 'Year', 'Age Rating', 'Duration', 'Category'], dtype='object')"
      ]
     },
     "execution_count": 8,
     "metadata": {},
     "output_type": "execute_result"
    }
   ],
   "source": [
    "df.columns"
   ]
  },
  {
   "cell_type": "code",
   "execution_count": 9,
   "id": "f7f23af3",
   "metadata": {},
   "outputs": [
    {
     "data": {
      "text/plain": [
       "Name           object\n",
       "Year          float64\n",
       "Age Rating     object\n",
       "Duration       object\n",
       "Category       object\n",
       "dtype: object"
      ]
     },
     "execution_count": 9,
     "metadata": {},
     "output_type": "execute_result"
    }
   ],
   "source": [
    "df.dtypes"
   ]
  },
  {
   "cell_type": "code",
   "execution_count": 10,
   "id": "e2ba3efb",
   "metadata": {},
   "outputs": [
    {
     "data": {
      "text/plain": [
       "Name           1\n",
       "Year          25\n",
       "Age Rating    25\n",
       "Duration       1\n",
       "Category       2\n",
       "dtype: int64"
      ]
     },
     "execution_count": 10,
     "metadata": {},
     "output_type": "execute_result"
    }
   ],
   "source": [
    "df.isnull().sum()"
   ]
  },
  {
   "cell_type": "code",
   "execution_count": 11,
   "id": "089dc84e",
   "metadata": {},
   "outputs": [],
   "source": [
    "df.dropna(inplace=True)\n"
   ]
  },
  {
   "cell_type": "code",
   "execution_count": 12,
   "id": "89f6b1fd",
   "metadata": {},
   "outputs": [
    {
     "data": {
      "text/plain": [
       "Name          0\n",
       "Year          0\n",
       "Age Rating    0\n",
       "Duration      0\n",
       "Category      0\n",
       "dtype: int64"
      ]
     },
     "execution_count": 12,
     "metadata": {},
     "output_type": "execute_result"
    }
   ],
   "source": [
    "df.isnull().sum()"
   ]
  },
  {
   "cell_type": "code",
   "execution_count": 13,
   "id": "3579ac8c",
   "metadata": {},
   "outputs": [
    {
     "data": {
      "text/html": [
       "<div>\n",
       "<style scoped>\n",
       "    .dataframe tbody tr th:only-of-type {\n",
       "        vertical-align: middle;\n",
       "    }\n",
       "\n",
       "    .dataframe tbody tr th {\n",
       "        vertical-align: top;\n",
       "    }\n",
       "\n",
       "    .dataframe thead th {\n",
       "        text-align: right;\n",
       "    }\n",
       "</style>\n",
       "<table border=\"1\" class=\"dataframe\">\n",
       "  <thead>\n",
       "    <tr style=\"text-align: right;\">\n",
       "      <th></th>\n",
       "      <th>Name</th>\n",
       "      <th>Year</th>\n",
       "      <th>Age Rating</th>\n",
       "      <th>Duration</th>\n",
       "      <th>Category</th>\n",
       "    </tr>\n",
       "  </thead>\n",
       "  <tbody>\n",
       "    <tr>\n",
       "      <th>0</th>\n",
       "      <td>The Sea Beast</td>\n",
       "      <td>2022.0</td>\n",
       "      <td>7+</td>\n",
       "      <td>1h 59m</td>\n",
       "      <td>Kids &amp; Family Movies</td>\n",
       "    </tr>\n",
       "    <tr>\n",
       "      <th>1</th>\n",
       "      <td>Sonic the Hedgehog</td>\n",
       "      <td>2020.0</td>\n",
       "      <td>7+</td>\n",
       "      <td>1h 41m</td>\n",
       "      <td>Kids &amp; Family Movies</td>\n",
       "    </tr>\n",
       "    <tr>\n",
       "      <th>2</th>\n",
       "      <td>Tom and Jerry</td>\n",
       "      <td>2021.0</td>\n",
       "      <td>7+</td>\n",
       "      <td>1h 41m</td>\n",
       "      <td>Kids &amp; Family Movies</td>\n",
       "    </tr>\n",
       "    <tr>\n",
       "      <th>3</th>\n",
       "      <td>We Can Be Heroes</td>\n",
       "      <td>2020.0</td>\n",
       "      <td>7+</td>\n",
       "      <td>1h 40m</td>\n",
       "      <td>Kids &amp; Family Movies</td>\n",
       "    </tr>\n",
       "    <tr>\n",
       "      <th>4</th>\n",
       "      <td>STAND BY ME Doraemon 2</td>\n",
       "      <td>2020.0</td>\n",
       "      <td>7+</td>\n",
       "      <td>1h 37m</td>\n",
       "      <td>Kids &amp; Family Movies</td>\n",
       "    </tr>\n",
       "    <tr>\n",
       "      <th>...</th>\n",
       "      <td>...</td>\n",
       "      <td>...</td>\n",
       "      <td>...</td>\n",
       "      <td>...</td>\n",
       "      <td>...</td>\n",
       "    </tr>\n",
       "    <tr>\n",
       "      <th>2724</th>\n",
       "      <td>Mom</td>\n",
       "      <td>2017.0</td>\n",
       "      <td>16+</td>\n",
       "      <td>2h 18m</td>\n",
       "      <td>Dramas</td>\n",
       "    </tr>\n",
       "    <tr>\n",
       "      <th>2725</th>\n",
       "      <td>The Legend of Bhagat Singh</td>\n",
       "      <td>2002.0</td>\n",
       "      <td>16+</td>\n",
       "      <td>2h 35m</td>\n",
       "      <td>Movies Based on Real Life</td>\n",
       "    </tr>\n",
       "    <tr>\n",
       "      <th>2726</th>\n",
       "      <td>Article 15</td>\n",
       "      <td>2019.0</td>\n",
       "      <td>16+</td>\n",
       "      <td>2h 5m</td>\n",
       "      <td>Dramas</td>\n",
       "    </tr>\n",
       "    <tr>\n",
       "      <th>2727</th>\n",
       "      <td>We Are Family</td>\n",
       "      <td>2010.0</td>\n",
       "      <td>13+</td>\n",
       "      <td>1h 58m</td>\n",
       "      <td>Dramas</td>\n",
       "    </tr>\n",
       "    <tr>\n",
       "      <th>2728</th>\n",
       "      <td>Ajeeb Daastaans</td>\n",
       "      <td>2021.0</td>\n",
       "      <td>18+</td>\n",
       "      <td>2h 22m</td>\n",
       "      <td>Dramas</td>\n",
       "    </tr>\n",
       "  </tbody>\n",
       "</table>\n",
       "<p>2703 rows × 5 columns</p>\n",
       "</div>"
      ],
      "text/plain": [
       "                            Name    Year Age Rating Duration  \\\n",
       "0                  The Sea Beast  2022.0         7+   1h 59m   \n",
       "1             Sonic the Hedgehog  2020.0         7+   1h 41m   \n",
       "2                  Tom and Jerry  2021.0         7+   1h 41m   \n",
       "3               We Can Be Heroes  2020.0         7+   1h 40m   \n",
       "4         STAND BY ME Doraemon 2  2020.0         7+   1h 37m   \n",
       "...                          ...     ...        ...      ...   \n",
       "2724                         Mom  2017.0        16+   2h 18m   \n",
       "2725  The Legend of Bhagat Singh  2002.0        16+   2h 35m   \n",
       "2726                  Article 15  2019.0        16+    2h 5m   \n",
       "2727               We Are Family  2010.0        13+   1h 58m   \n",
       "2728             Ajeeb Daastaans  2021.0        18+   2h 22m   \n",
       "\n",
       "                       Category  \n",
       "0          Kids & Family Movies  \n",
       "1          Kids & Family Movies  \n",
       "2          Kids & Family Movies  \n",
       "3          Kids & Family Movies  \n",
       "4          Kids & Family Movies  \n",
       "...                         ...  \n",
       "2724                     Dramas  \n",
       "2725  Movies Based on Real Life  \n",
       "2726                     Dramas  \n",
       "2727                     Dramas  \n",
       "2728                     Dramas  \n",
       "\n",
       "[2703 rows x 5 columns]"
      ]
     },
     "execution_count": 13,
     "metadata": {},
     "output_type": "execute_result"
    }
   ],
   "source": [
    "df = df.dropna(subset=['Name', 'Year', 'Age Rating', 'Duration', 'Category'])\n",
    "df"
   ]
  },
  {
   "cell_type": "code",
   "execution_count": 14,
   "id": "294ead1c",
   "metadata": {},
   "outputs": [
    {
     "name": "stdout",
     "output_type": "stream",
     "text": [
      "<class 'pandas.core.frame.DataFrame'>\n",
      "Int64Index: 2703 entries, 0 to 2728\n",
      "Data columns (total 5 columns):\n",
      " #   Column      Non-Null Count  Dtype  \n",
      "---  ------      --------------  -----  \n",
      " 0   Name        2703 non-null   object \n",
      " 1   Year        2703 non-null   float64\n",
      " 2   Age Rating  2703 non-null   object \n",
      " 3   Duration    2703 non-null   object \n",
      " 4   Category    2703 non-null   object \n",
      "dtypes: float64(1), object(4)\n",
      "memory usage: 126.7+ KB\n"
     ]
    }
   ],
   "source": [
    "df.info()"
   ]
  },
  {
   "cell_type": "code",
   "execution_count": 15,
   "id": "f0ed6c27",
   "metadata": {},
   "outputs": [
    {
     "name": "stdout",
     "output_type": "stream",
     "text": [
      "Comedies                          457\n",
      "Dramas                            294\n",
      "Thriller Movies                   242\n",
      "Kids & Family Movies              222\n",
      "Action & Adventure                222\n",
      "Romantic Movies                   199\n",
      "Horror Movies                     151\n",
      "Hindi-Language Movies              93\n",
      "Family Movies                      70\n",
      "Movies Based on Books              68\n",
      "Sports Movies                      64\n",
      "Anime Movies                       62\n",
      "Documentary Films                  57\n",
      "Teen Movies                        49\n",
      "Movies Based on Real Life          47\n",
      "Military Movies                    40\n",
      "Sci-Fi Movies                      38\n",
      "Crime Movies                       33\n",
      "US Movies                          26\n",
      "Music                              22\n",
      "Tamil-Language Movies              20\n",
      "Chinese Movies                     20\n",
      "Bollywood Movies                   18\n",
      "Social Issue Dramas                16\n",
      "Telugu-Language Movies             12\n",
      "True Crime Documentaries           11\n",
      "Spy Movies                         10\n",
      "Science & Nature Docs              10\n",
      "Crime Action                        9\n",
      "Middle Eastern Movies               9\n",
      "Thrillers                           9\n",
      "Stand-Up Comedy                     8\n",
      "Independent Movies                  8\n",
      "Nature & Ecology Documentaries      8\n",
      "Martial Arts Movies                 8\n",
      "Drama Anime                         5\n",
      "Classic Movies                      5\n",
      "Adult Animation                     4\n",
      "Fantasy Anime                       4\n",
      "Food & Travel TV                    4\n",
      "Hip-Hop                             4\n",
      "Period Pieces                       4\n",
      "Punjabi-Language Movies             3\n",
      "Courtroom Movies                    3\n",
      "Musicals                            3\n",
      "Science & Nature TV                 3\n",
      "Historical Documentaries            3\n",
      "Historical Anime                    2\n",
      "Documentaries                       2\n",
      "Mysteries                           2\n",
      "TV Cartoons                         2\n",
      "Marathi-Language Movies             2\n",
      "African Movies                      2\n",
      "School Anime                        2\n",
      "Sitcoms                             1\n",
      "Military Documentaries              1\n",
      "Reality TV                          1\n",
      "Political Documentaries             1\n",
      "Westerns                            1\n",
      "German Dramas                       1\n",
      "Action                              1\n",
      "Independent Films                   1\n",
      "TV Shows Based on Books             1\n",
      "LGBTQ Movies                        1\n",
      "Horror Anime                        1\n",
      "Concerts                            1\n"
     ]
    }
   ],
   "source": [
    "category_distribution = df['Category'].value_counts()\n",
    "print(category_distribution.to_string())"
   ]
  },
  {
   "cell_type": "code",
   "execution_count": 16,
   "id": "67144b1f",
   "metadata": {
    "scrolled": true
   },
   "outputs": [
    {
     "name": "stdout",
     "output_type": "stream",
     "text": [
      "Age Ratings: ['7+' 'All' '16+' '13+' '18+' 'TV-MA' '16' '12' '14']\n"
     ]
    },
    {
     "data": {
      "image/png": "[encoded data removed]",
      "text/plain": [
       "<Figure size 800x600 with 1 Axes>"
      ]
     },
     "metadata": {},
     "output_type": "display_data"
    }
   ],
   "source": [
    "# Check the 'Age Rating' column\n",
    "age_ratings = df['Age Rating'].unique()\n",
    "print(\"Age Ratings:\", age_ratings)\n",
    "\n",
    "# Calculate the distribution of age ratings\n",
    "age_rating_distribution = df['Age Rating'].value_counts()\n",
    "\n",
    "# Create the plot\n",
    "plt.figure(figsize=(8, 6))\n",
    "age_rating_distribution.plot(kind='bar')\n",
    "plt.xlabel('Age Rating')\n",
    "plt.ylabel('Number of Films')\n",
    "plt.title('Distribution of Age Ratings')\n",
    "plt.xticks(rotation=45, ha='right')\n",
    "plt.show()\n"
   ]
  },
  {
   "cell_type": "code",
   "execution_count": 17,
   "id": "fec3eab6",
   "metadata": {},
   "outputs": [
    {
     "name": "stdout",
     "output_type": "stream",
     "text": [
      "Years: [2022. 2020. 2021. 2019. 2016. 2010. 2008. 1996. 2015. 2005. 2011. 2017.\n",
      " 2004. 2018. 2006. 2012. 2001. 1999. 2009. 1994. 1986. 2014. 2007. 2013.\n",
      " 1988. 1989. 1995. 2002. 1991. 1984. 2003. 1993. 1998. 1980. 1997. 2000.\n",
      " 1961. 1963. 1975. 1981. 1982. 1985. 1990. 1992. 1958. 1978. 1983. 1979.\n",
      " 1954. 1977.]\n"
     ]
    },
    {
     "data": {
      "image/png": "[encoded data removed]",
      "text/plain": [
       "<Figure size 1000x600 with 1 Axes>"
      ]
     },
     "metadata": {},
     "output_type": "display_data"
    }
   ],
   "source": [
    "# Check the 'Year' column\n",
    "years = df['Year'].unique()\n",
    "print(\"Years:\", years)\n",
    "\n",
    "# Calculate the number of films per year\n",
    "film_count = df['Year'].value_counts().sort_index()\n",
    "\n",
    "# Create the plot\n",
    "plt.figure(figsize=(10, 6))\n",
    "film_count.plot(kind='line', marker='o')\n",
    "plt.xlabel('Year')\n",
    "plt.ylabel('Number of Films')\n",
    "plt.title('Number of Films per Year')\n",
    "plt.xticks(rotation=45, ha='right')\n",
    "plt.grid(True)\n",
    "plt.show()\n"
   ]
  },
  {
   "cell_type": "code",
   "execution_count": 18,
   "id": "36efd389",
   "metadata": {
    "scrolled": false
   },
   "outputs": [
    {
     "name": "stdout",
     "output_type": "stream",
     "text": [
      "Longest film(s):\n",
      "        Name    Year Age Rating Duration         Category  Duration_hours  \\\n",
      "269   Lagaan  2001.0        13+   3h 43m  Romantic Movies             3.0   \n",
      "1900  Lagaan  2001.0        13+   3h 43m    Sports Movies             3.0   \n",
      "2617  Lagaan  2001.0        13+   3h 43m           Dramas             3.0   \n",
      "\n",
      "      Duration_minutes  Duration_total_minutes  \n",
      "269               43.0                   223.0  \n",
      "1900              43.0                   223.0  \n",
      "2617              43.0                   223.0  \n"
     ]
    }
   ],
   "source": [
    "# Separate the 'Duration' column into hours and minutes\n",
    "df['Duration_hours'] = df['Duration'].str.extract('(\\d+)h').astype(float)\n",
    "df['Duration_minutes'] = df['Duration'].str.extract('(\\d+)m').astype(float)\n",
    "\n",
    "# Convert the durations to minutes\n",
    "df['Duration_total_minutes'] = df['Duration_hours'] * 60 + df['Duration_minutes']\n",
    "\n",
    "# Drop rows with missing values in 'Duration'\n",
    "df.dropna(subset=['Duration'], inplace=True)\n",
    "\n",
    "# Find the film(s) with the longest duration\n",
    "longest_duration = df['Duration_total_minutes'].max()\n",
    "longest_films = df[df['Duration_total_minutes'] == longest_duration]\n",
    "print(\"Longest film(s):\")\n",
    "print(longest_films)\n"
   ]
  },
  {
   "cell_type": "code",
   "execution_count": 25,
   "id": "71a3cb40",
   "metadata": {},
   "outputs": [
    {
     "name": "stdout",
     "output_type": "stream",
     "text": [
      "Duration shortest films:\n",
      "                                              Name    Year Age Rating  \\\n",
      "149   Go! Go! Cory Carson: Chrissy Takes the Wheel  2021.0        All   \n",
      "1996                     Azzurri - Road to Wembley  2021.0        13+   \n",
      "2339            Kevin Hart: I'm a Grown Little Man  2009.0        18+   \n",
      "\n",
      "     Duration              Category  Duration_hours  Duration_minutes  \\\n",
      "149     1h 1m  Kids & Family Movies             1.0               1.0   \n",
      "1996    1h 1m         Sports Movies             1.0               1.0   \n",
      "2339    1h 1m       Stand-Up Comedy             1.0               1.0   \n",
      "\n",
      "      Duration_total_minutes  \n",
      "149                     61.0  \n",
      "1996                    61.0  \n",
      "2339                    61.0  \n"
     ]
    }
   ],
   "source": [
    "\n",
    "shortest_duration = df['Duration_total_minutes'].min()\n",
    "shortest_films = df[df['Duration_total_minutes'] == shortest_duration]\n",
    "print(\"Duration shortest films:\")\n",
    "print(shortest_films)\n"
   ]
  },
  {
   "cell_type": "code",
   "execution_count": 20,
   "id": "09c6302a",
   "metadata": {},
   "outputs": [],
   "source": [
    "lagaan_films = df[df['Name'] == 'Lagaan']\n"
   ]
  },
  {
   "cell_type": "code",
   "execution_count": 21,
   "id": "b80cf004",
   "metadata": {},
   "outputs": [],
   "source": [
    "categories = lagaan_films['Category'].unique()\n"
   ]
  },
  {
   "cell_type": "code",
   "execution_count": 22,
   "id": "662f6924",
   "metadata": {},
   "outputs": [
    {
     "name": "stdout",
     "output_type": "stream",
     "text": [
      "Category: Romantic Movies - Count: 1\n",
      "Category: Sports Movies - Count: 1\n",
      "Category: Dramas - Count: 1\n"
     ]
    }
   ],
   "source": [
    "for category in categories:\n",
    "    count = lagaan_films[lagaan_films['Category'] == category].shape[0]\n",
    "    print(f\"Category: {category} - Count: {count}\")\n"
   ]
  }
 ],
 "metadata": {
  "kernelspec": {
   "display_name": "Python 3 (ipykernel)",
   "language": "python",
   "name": "python3"
  },
  "language_info": {
   "codemirror_mode": {
    "name": "ipython",
    "version": 3
   },
   "file_extension": ".py",
   "mimetype": "text/x-python",
   "name": "python",
   "nbconvert_exporter": "python",
   "pygments_lexer": "ipython3",
   "version": "3.10.9"
  }
 },
 "nbformat": 4,
 "nbformat_minor": 5
}
